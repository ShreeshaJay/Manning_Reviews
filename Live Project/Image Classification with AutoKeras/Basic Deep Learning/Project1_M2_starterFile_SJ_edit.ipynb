{
 "cells": [
  {
   "cell_type": "markdown",
   "metadata": {
    "id": "Kg6jdqHeX436"
   },
   "source": [
    "## **Milestone 1 - Hyperparameter Tuning for Convolutional Neural Network** \n",
    "\n",
    "\n"
   ]
  },
  {
   "cell_type": "markdown",
   "metadata": {
    "id": "k4WfZVyoYQBl"
   },
   "source": [
    "Author: Xiaotian Han"
   ]
  },
  {
   "cell_type": "markdown",
   "metadata": {},
   "source": [
    "Modified by Shreesha Jagadeesh"
   ]
  },
  {
   "cell_type": "markdown",
   "metadata": {
    "id": "xS9ABAa0PQW2"
   },
   "source": [
    "In this milestone, you will implement the multi-layer preceptron for image classification. The step is listed as follows:\n",
    "\n",
    "1. Code to conduct the grid search\n",
    "2. Grid search the hyperparameters for CNN\n",
    "3. Compare the model performance with the original model and searched model\n",
    "\n",
    "Intructions:\n",
    "1. Complete the code between # Your code here\n",
    "2. The output of the cell is the expected output of the code \n",
    "\n"
   ]
  },
  {
   "cell_type": "code",
   "execution_count": 1,
   "metadata": {
    "id": "jaJuq1j3Kgqi"
   },
   "outputs": [],
   "source": [
    "import tensorflow as tf\n",
    "tf.random.set_seed(42)\n",
    "\n",
    "from tensorflow.keras.datasets import mnist, cifar10\n",
    "from tensorflow import keras\n",
    "from tensorflow.keras import layers\n",
    "from tensorflow.keras import Model, Input\n",
    "from tensorflow.keras.layers import Layer, Dense, ReLU, Softmax, MaxPooling2D, Flatten, Conv2D\n",
    "\n",
    "%matplotlib inline\n",
    "import matplotlib\n",
    "import matplotlib.pyplot as plt"
   ]
  },
  {
   "cell_type": "code",
   "execution_count": 2,
   "metadata": {
    "colab": {
     "base_uri": "https://localhost:8080/"
    },
    "executionInfo": {
     "elapsed": 2175,
     "status": "ok",
     "timestamp": 1618370928936,
     "user": {
      "displayName": "Xiaotian Han",
      "photoUrl": "",
      "userId": "11706159397964667938"
     },
     "user_tz": 300
    },
    "id": "veIAoyfShz_Y",
    "outputId": "9131ae55-b858-43f9-f43f-39bd9c55efb9"
   },
   "outputs": [
    {
     "name": "stdout",
     "output_type": "stream",
     "text": [
      "tensorflow= 2.4.1\n"
     ]
    }
   ],
   "source": [
    "print( \"tensorflow=\",tf.__version__ )"
   ]
  },
  {
   "cell_type": "markdown",
   "metadata": {
    "id": "do_q_MvdKgq4"
   },
   "source": [
    "# Load and preprocess dataset"
   ]
  },
  {
   "cell_type": "code",
   "execution_count": 3,
   "metadata": {
    "colab": {
     "base_uri": "https://localhost:8080/"
    },
    "executionInfo": {
     "elapsed": 2838,
     "status": "ok",
     "timestamp": 1618370929612,
     "user": {
      "displayName": "Xiaotian Han",
      "photoUrl": "",
      "userId": "11706159397964667938"
     },
     "user_tz": 300
    },
    "id": "N7vfDd2jKgq7",
    "outputId": "1964d3e4-079b-4e41-a504-edd381eb40a9"
   },
   "outputs": [
    {
     "name": "stdout",
     "output_type": "stream",
     "text": [
      "Training image shape: (50000, 32, 32, 3)\n",
      "Training label shape: (50000, 1)\n",
      "Testing image shape: (10000, 32, 32, 3)\n",
      "Testing label shape: (10000, 1)\n"
     ]
    }
   ],
   "source": [
    "(x_train, y_train), (x_test, y_test) =  cifar10.load_data()\n",
    "\n",
    "# scale\n",
    "x_train = x_train.astype('float32') / 255.\n",
    "x_test = x_test.astype('float32') / 255.\n",
    "\n",
    "# reshape\n",
    "x_train = x_train.reshape(-1, 32, 32, 3)\n",
    "x_test = x_test.reshape(-1, 32, 32, 3)\n",
    "\n",
    "print('Training image shape:', x_train.shape)\n",
    "print('Training label shape:', y_train.shape)\n",
    "print('Testing image shape:', x_test.shape)\n",
    "print('Testing label shape:', y_test.shape)"
   ]
  },
  {
   "cell_type": "markdown",
   "metadata": {
    "id": "zg2Q3RJ4Kgw_"
   },
   "source": [
    "# Build CNN model with a config dictionary"
   ]
  },
  {
   "cell_type": "code",
   "execution_count": 4,
   "metadata": {
    "id": "CgkXZx_CrC-A"
   },
   "outputs": [],
   "source": [
    "#### Build function"
   ]
  },
  {
   "cell_type": "code",
   "execution_count": 5,
   "metadata": {
    "id": "7YB1Rvp4KgxF"
   },
   "outputs": [],
   "source": [
    "def build_cnn_model( model_config ):\n",
    "    \n",
    "    '''\n",
    "    Args: model_config is a dictionary that has 4 keys for defining the input hyperparameters.\n",
    "    logic: the rest of the function defines the architecture and then compiles\n",
    "    Returns: untrained model\n",
    "    \n",
    "    '''\n",
    "      # set hyperparameters\n",
    "    conv2d_1_filters =  model_config[\"hp1\"]\n",
    "    conv2d_2_filters =  model_config[\"hp2\"]\n",
    "    conv2d_3_filters =  model_config[\"hp3\"]\n",
    "    \n",
    "    dense_1_units =  model_config[\"hp4\"]\n",
    "\n",
    "    # build model\n",
    "    \n",
    "    # The main difference with the previous project module is that the filters param itself is parameterized.\n",
    "    \n",
    "    inputs = Input( shape=(32, 32, 3) )\n",
    "    \n",
    "    x = Conv2D(filters=conv2d_1_filters, kernel_size=3, activation='relu')(inputs)\n",
    "    x = MaxPooling2D((2, 2))(x)\n",
    "    \n",
    "    x = Conv2D(filters=conv2d_2_filters, kernel_size=3, activation='relu')(x)\n",
    "    x = MaxPooling2D((2, 2))(x)\n",
    "    \n",
    "    x = Conv2D(filters=conv2d_3_filters, kernel_size=3, activation='relu')(x)     \n",
    "    x = Flatten()(x)\n",
    "    \n",
    "    x = Dense(units=dense_1_units, activation='relu')(x)\n",
    "    outputs = Dense(10, activation='softmax')(x)\n",
    "    model = Model(inputs, outputs, name = \"cnn_model\")\n",
    "\n",
    "    # compile model\n",
    "    model.compile(optimizer='adam',\n",
    "              loss=tf.keras.losses.SparseCategoricalCrossentropy(),\n",
    "              metrics=['accuracy'])\n",
    "    \n",
    "    return model"
   ]
  },
  {
   "cell_type": "markdown",
   "metadata": {
    "id": "Ppv329ql6Tu0"
   },
   "source": [
    "#### Train function"
   ]
  },
  {
   "cell_type": "code",
   "execution_count": 6,
   "metadata": {
    "id": "nZV2TeKV7PD_"
   },
   "outputs": [],
   "source": [
    "def train_func( model, epochs=1, batch_size=128, verbose = 1):\n",
    "    '''\n",
    "    Args: The model to be trained; epochs, batch size\n",
    "    Logic: Trains the model on the x_train and y_train assuming a validation split of 20%\n",
    "    The history is stored in the training_history object\n",
    "    Returns: a float that is the average validation accuracy\n",
    "    '''\n",
    "    # Note that the training data is not explicitly passed as an input argument\n",
    "    training_history = model.fit(x_train, y_train, \n",
    "                        epochs=epochs, batch_size=batch_size, validation_split=0.20, verbose = verbose)\n",
    "    val_acc_list = training_history.history['val_accuracy']\n",
    "    \n",
    "    return sum( val_acc_list ) / len( val_acc_list )"
   ]
  },
  {
   "cell_type": "markdown",
   "metadata": {
    "id": "vo8VLEAkgeEG"
   },
   "source": [
    "#### Build the model "
   ]
  },
  {
   "cell_type": "code",
   "execution_count": 7,
   "metadata": {
    "colab": {
     "base_uri": "https://localhost:8080/"
    },
    "executionInfo": {
     "elapsed": 8698,
     "status": "ok",
     "timestamp": 1618370935503,
     "user": {
      "displayName": "Xiaotian Han",
      "photoUrl": "",
      "userId": "11706159397964667938"
     },
     "user_tz": 300
    },
    "id": "Ty4h8rQz7sS_",
    "outputId": "dfe42c97-385b-4edd-8ebc-48d6b9fe9e8e"
   },
   "outputs": [
    {
     "name": "stdout",
     "output_type": "stream",
     "text": [
      "Model: \"cnn_model\"\n",
      "_________________________________________________________________\n",
      "Layer (type)                 Output Shape              Param #   \n",
      "=================================================================\n",
      "input_1 (InputLayer)         [(None, 32, 32, 3)]       0         \n",
      "_________________________________________________________________\n",
      "conv2d (Conv2D)              (None, 30, 30, 16)        448       \n",
      "_________________________________________________________________\n",
      "max_pooling2d (MaxPooling2D) (None, 15, 15, 16)        0         \n",
      "_________________________________________________________________\n",
      "conv2d_1 (Conv2D)            (None, 13, 13, 32)        4640      \n",
      "_________________________________________________________________\n",
      "max_pooling2d_1 (MaxPooling2 (None, 6, 6, 32)          0         \n",
      "_________________________________________________________________\n",
      "conv2d_2 (Conv2D)            (None, 4, 4, 16)          4624      \n",
      "_________________________________________________________________\n",
      "flatten (Flatten)            (None, 256)               0         \n",
      "_________________________________________________________________\n",
      "dense (Dense)                (None, 64)                16448     \n",
      "_________________________________________________________________\n",
      "dense_1 (Dense)              (None, 10)                650       \n",
      "=================================================================\n",
      "Total params: 26,810\n",
      "Trainable params: 26,810\n",
      "Non-trainable params: 0\n",
      "_________________________________________________________________\n"
     ]
    }
   ],
   "source": [
    "model_config = {\n",
    "    \"hp1\": 16,\n",
    "    \"hp2\": 32,\n",
    "    \"hp3\": 16,\n",
    "    \"hp4\": 64,\n",
    "# Note that I changed the hp4 to 64 and included in the model architecture as a param unlike the starter code\n",
    "}\n",
    "\n",
    "cnn_model = build_cnn_model(model_config)\n",
    "\n",
    "cnn_model.summary()\n",
    "\n",
    "# train_func( cnn_model )"
   ]
  },
  {
   "cell_type": "code",
   "execution_count": 8,
   "metadata": {},
   "outputs": [],
   "source": [
    "# (Note that you need to assume you know all the input dimensions and the hyperparameters before you can roll up your sleeves\n",
    "# to calculate the number of trainable weights\n",
    " \n",
    "# The number of params are calculated as follows\n",
    "\n",
    "# Conv_0 (Filter width x Filter height * previous layer channel filter + 1) * current layer filters = (3*3*3 + 1)*16 = 448\n",
    "\n",
    "# Conv 1 The previous layer has 16  filters. The current one has 32 3x3 kernel hence(3*3*16 + 1)*32 = 4640\n",
    "\n",
    "# Conv 2 The previous layer has 32 filters. The current one has 64 3x3 kernel hence (3*3*32 + 1)*16 = 4624\n",
    "\n",
    "# Flatten to the first hidden layer: \n",
    "# Treat the 256 long vector as a set of features into the dense layer. 256 x 64 + 64 (bias node) = 16448\n",
    "\n",
    "# First hidden to the last layer:\n",
    "# 64x 10 + 10 = 650\n",
    "\n",
    "# Note that the 3,3 for the filter width and height are not explicitly stated"
   ]
  },
  {
   "cell_type": "markdown",
   "metadata": {},
   "source": [
    "### Train the model"
   ]
  },
  {
   "cell_type": "code",
   "execution_count": 9,
   "metadata": {},
   "outputs": [
    {
     "name": "stdout",
     "output_type": "stream",
     "text": [
      "313/313 [==============================] - 10s 29ms/step - loss: 2.0403 - accuracy: 0.2453 - val_loss: 1.6057 - val_accuracy: 0.4191\n"
     ]
    },
    {
     "data": {
      "text/plain": [
       "0.41909998655319214"
      ]
     },
     "execution_count": 9,
     "metadata": {},
     "output_type": "execute_result"
    }
   ],
   "source": [
    "train_func( cnn_model )\n",
    "# The average validation accuracy will not be as high as the most recent or the max validation accuracy"
   ]
  },
  {
   "cell_type": "markdown",
   "metadata": {
    "id": "8baold73f1eM"
   },
   "source": [
    "# Grid Search"
   ]
  },
  {
   "cell_type": "code",
   "execution_count": 9,
   "metadata": {
    "id": "1gTbpfPO5lfC"
   },
   "outputs": [],
   "source": [
    "from itertools import product\n",
    "\n",
    "# Alternatively pass in a dictionary hyperparam_dict which contains the hp1, hp2, hp3 and hp4 as keys\n",
    "# then your for loop will be different too\n",
    "#     for i, hyperparameter_list in enumerate(list(product(*(list(hyperparam_dict.values()))))):\n",
    "\n",
    "\n",
    "def grid_search_function(hp1s, hp2s, hp3s, hp4s):\n",
    "    '''\n",
    "    Args: hyperparameter dictionary containing a lists of hyperparameter candidates\n",
    "    Logic: Perform a grid search iterating through the various combinations of the hyperparameters\n",
    "    Returns: the hyperparameter combo for the best model\n",
    "    \n",
    "    '''\n",
    "    \n",
    "    # init varibles for best model\n",
    "    best_val_acc = 0\n",
    "    best_model_config = {}\n",
    "\n",
    "    # build_cnn_model with the all potential combinations of hyperparameters( hp1s, hp2s, hp3s, hp4s )\n",
    "    # Your code here\n",
    "\n",
    "    # the hyperparameter_list variable has the individual combination of the 4 hyperparams.\n",
    "    # this combo changes in each iteration\n",
    "    # the model_config stores each of this configuration temporarily and calls the build and train functions\n",
    "    \n",
    "    for i, hyperparameter_list in enumerate(product(hp1s, hp2s, hp3s, hp4s)):\n",
    "        model_config = dict(zip( [\"hp1\", \"hp2\", \"hp3\", \"hp4\"], hyperparameter_list ) )\n",
    "        \n",
    "        # Rebuild and train the model \n",
    "        cnn_model = build_cnn_model(model_config)\n",
    "        val_acc = train_func( cnn_model, epochs = 1 )\n",
    "\n",
    "        # save best hyperparameters\n",
    "        if val_acc > best_val_acc:\n",
    "            best_model_config = model_config\n",
    "            best_val_acc = val_acc\n",
    "        print( \"{}-th Search:\\tCurrent:\\tmodel_config:{},\\tval_acc:{} \\n\\t\\tBest:   \\tmodel_config:{},\\tval_acc:{}\\n\".format(\n",
    "            i+1, model_config, val_acc, best_model_config, best_val_acc ) )\n",
    "\n",
    "    return best_model_config"
   ]
  },
  {
   "cell_type": "code",
   "execution_count": 12,
   "metadata": {},
   "outputs": [
    {
     "name": "stdout",
     "output_type": "stream",
     "text": [
      "313/313 [==============================] - 28s 89ms/step - loss: 1.9346 - accuracy: 0.2760 - val_loss: 1.4825 - val_accuracy: 0.4662\n",
      "1-th Search:\tCurrent:\tmodel_config:{'hp1': 64, 'hp2': 64, 'hp3': 64, 'hp4': 64},\tval_acc:0.46619999408721924 \n",
      "\t\tBest:   \tmodel_config:{'hp1': 64, 'hp2': 64, 'hp3': 64, 'hp4': 64},\tval_acc:0.46619999408721924\n",
      "\n",
      "313/313 [==============================] - 28s 87ms/step - loss: 1.8927 - accuracy: 0.2930 - val_loss: 1.4485 - val_accuracy: 0.4732\n",
      "2-th Search:\tCurrent:\tmodel_config:{'hp1': 64, 'hp2': 64, 'hp3': 64, 'hp4': 256},\tval_acc:0.4731999933719635 \n",
      "\t\tBest:   \tmodel_config:{'hp1': 64, 'hp2': 64, 'hp3': 64, 'hp4': 256},\tval_acc:0.4731999933719635\n",
      "\n",
      "313/313 [==============================] - 30s 95ms/step - loss: 1.8666 - accuracy: 0.3116 - val_loss: 1.4006 - val_accuracy: 0.5054\n",
      "3-th Search:\tCurrent:\tmodel_config:{'hp1': 64, 'hp2': 64, 'hp3': 256, 'hp4': 64},\tval_acc:0.5054000020027161 \n",
      "\t\tBest:   \tmodel_config:{'hp1': 64, 'hp2': 64, 'hp3': 256, 'hp4': 64},\tval_acc:0.5054000020027161\n",
      "\n",
      "313/313 [==============================] - 30s 96ms/step - loss: 1.9346 - accuracy: 0.2766 - val_loss: 1.4508 - val_accuracy: 0.4685\n",
      "4-th Search:\tCurrent:\tmodel_config:{'hp1': 64, 'hp2': 64, 'hp3': 256, 'hp4': 256},\tval_acc:0.4684999883174896 \n",
      "\t\tBest:   \tmodel_config:{'hp1': 64, 'hp2': 64, 'hp3': 256, 'hp4': 64},\tval_acc:0.5054000020027161\n",
      "\n",
      "313/313 [==============================] - 50s 158ms/step - loss: 1.8896 - accuracy: 0.2989 - val_loss: 1.4332 - val_accuracy: 0.4868\n",
      "5-th Search:\tCurrent:\tmodel_config:{'hp1': 64, 'hp2': 256, 'hp3': 64, 'hp4': 64},\tval_acc:0.4867999851703644 \n",
      "\t\tBest:   \tmodel_config:{'hp1': 64, 'hp2': 64, 'hp3': 256, 'hp4': 64},\tval_acc:0.5054000020027161\n",
      "\n",
      "313/313 [==============================] - 49s 156ms/step - loss: 1.9026 - accuracy: 0.2896 - val_loss: 1.4016 - val_accuracy: 0.5034\n",
      "6-th Search:\tCurrent:\tmodel_config:{'hp1': 64, 'hp2': 256, 'hp3': 64, 'hp4': 256},\tval_acc:0.5034000277519226 \n",
      "\t\tBest:   \tmodel_config:{'hp1': 64, 'hp2': 64, 'hp3': 256, 'hp4': 64},\tval_acc:0.5054000020027161\n",
      "\n",
      "313/313 [==============================] - 75s 237ms/step - loss: 1.8941 - accuracy: 0.2949 - val_loss: 1.3465 - val_accuracy: 0.5209\n",
      "7-th Search:\tCurrent:\tmodel_config:{'hp1': 64, 'hp2': 256, 'hp3': 256, 'hp4': 64},\tval_acc:0.5209000110626221 \n",
      "\t\tBest:   \tmodel_config:{'hp1': 64, 'hp2': 256, 'hp3': 256, 'hp4': 64},\tval_acc:0.5209000110626221\n",
      "\n",
      "313/313 [==============================] - 75s 238ms/step - loss: 1.8792 - accuracy: 0.2944 - val_loss: 1.3922 - val_accuracy: 0.5027\n",
      "8-th Search:\tCurrent:\tmodel_config:{'hp1': 64, 'hp2': 256, 'hp3': 256, 'hp4': 256},\tval_acc:0.5026999711990356 \n",
      "\t\tBest:   \tmodel_config:{'hp1': 64, 'hp2': 256, 'hp3': 256, 'hp4': 64},\tval_acc:0.5209000110626221\n",
      "\n",
      "313/313 [==============================] - 121s 384ms/step - loss: 1.9686 - accuracy: 0.2729 - val_loss: 1.4813 - val_accuracy: 0.4610\n",
      "9-th Search:\tCurrent:\tmodel_config:{'hp1': 256, 'hp2': 64, 'hp3': 64, 'hp4': 64},\tval_acc:0.460999995470047 \n",
      "\t\tBest:   \tmodel_config:{'hp1': 64, 'hp2': 256, 'hp3': 256, 'hp4': 64},\tval_acc:0.5209000110626221\n",
      "\n",
      "313/313 [==============================] - 118s 376ms/step - loss: 1.8923 - accuracy: 0.2983 - val_loss: 1.4028 - val_accuracy: 0.4973\n",
      "10-th Search:\tCurrent:\tmodel_config:{'hp1': 256, 'hp2': 64, 'hp3': 64, 'hp4': 256},\tval_acc:0.49729999899864197 \n",
      "\t\tBest:   \tmodel_config:{'hp1': 64, 'hp2': 256, 'hp3': 256, 'hp4': 64},\tval_acc:0.5209000110626221\n",
      "\n",
      "313/313 [==============================] - 122s 387ms/step - loss: 1.9140 - accuracy: 0.2895 - val_loss: 1.3670 - val_accuracy: 0.5123\n",
      "11-th Search:\tCurrent:\tmodel_config:{'hp1': 256, 'hp2': 64, 'hp3': 256, 'hp4': 64},\tval_acc:0.5123000144958496 \n",
      "\t\tBest:   \tmodel_config:{'hp1': 64, 'hp2': 256, 'hp3': 256, 'hp4': 64},\tval_acc:0.5209000110626221\n",
      "\n",
      "313/313 [==============================] - 122s 389ms/step - loss: 1.9801 - accuracy: 0.2612 - val_loss: 1.4209 - val_accuracy: 0.4830\n",
      "12-th Search:\tCurrent:\tmodel_config:{'hp1': 256, 'hp2': 64, 'hp3': 256, 'hp4': 256},\tval_acc:0.4830000102519989 \n",
      "\t\tBest:   \tmodel_config:{'hp1': 64, 'hp2': 256, 'hp3': 256, 'hp4': 64},\tval_acc:0.5209000110626221\n",
      "\n",
      "313/313 [==============================] - 244s 779ms/step - loss: 1.9250 - accuracy: 0.2873 - val_loss: 1.3910 - val_accuracy: 0.5051\n",
      "13-th Search:\tCurrent:\tmodel_config:{'hp1': 256, 'hp2': 256, 'hp3': 64, 'hp4': 64},\tval_acc:0.5051000118255615 \n",
      "\t\tBest:   \tmodel_config:{'hp1': 64, 'hp2': 256, 'hp3': 256, 'hp4': 64},\tval_acc:0.5209000110626221\n",
      "\n",
      "313/313 [==============================] - 244s 778ms/step - loss: 1.9169 - accuracy: 0.2843 - val_loss: 1.4250 - val_accuracy: 0.4876\n",
      "14-th Search:\tCurrent:\tmodel_config:{'hp1': 256, 'hp2': 256, 'hp3': 64, 'hp4': 256},\tval_acc:0.4875999987125397 \n",
      "\t\tBest:   \tmodel_config:{'hp1': 64, 'hp2': 256, 'hp3': 256, 'hp4': 64},\tval_acc:0.5209000110626221\n",
      "\n",
      "313/313 [==============================] - 267s 852ms/step - loss: 1.9709 - accuracy: 0.2543 - val_loss: 1.4046 - val_accuracy: 0.4935\n",
      "15-th Search:\tCurrent:\tmodel_config:{'hp1': 256, 'hp2': 256, 'hp3': 256, 'hp4': 64},\tval_acc:0.4934999942779541 \n",
      "\t\tBest:   \tmodel_config:{'hp1': 64, 'hp2': 256, 'hp3': 256, 'hp4': 64},\tval_acc:0.5209000110626221\n",
      "\n",
      "313/313 [==============================] - 269s 857ms/step - loss: 1.9224 - accuracy: 0.2841 - val_loss: 1.3551 - val_accuracy: 0.5182\n",
      "16-th Search:\tCurrent:\tmodel_config:{'hp1': 256, 'hp2': 256, 'hp3': 256, 'hp4': 256},\tval_acc:0.5181999802589417 \n",
      "\t\tBest:   \tmodel_config:{'hp1': 64, 'hp2': 256, 'hp3': 256, 'hp4': 64},\tval_acc:0.5209000110626221\n",
      "\n"
     ]
    }
   ],
   "source": [
    "# You can change the hyperparameters candidate\n",
    "hp1s = [64, 256]\n",
    "hp2s = [64, 256]\n",
    "hp3s = [64, 256]\n",
    "hp4s = [64, 256]\n",
    "\n",
    "best_model_config = grid_search_function(hp1s, hp2s, hp3s, hp4s)"
   ]
  },
  {
   "cell_type": "code",
   "execution_count": 13,
   "metadata": {
    "colab": {
     "base_uri": "https://localhost:8080/"
    },
    "executionInfo": {
     "elapsed": 92065,
     "status": "ok",
     "timestamp": 1618371018907,
     "user": {
      "displayName": "Xiaotian Han",
      "photoUrl": "",
      "userId": "11706159397964667938"
     },
     "user_tz": 300
    },
    "id": "ERNcP8Wpq6DA",
    "outputId": "f71486e0-de20-484e-cfdc-9f1f7da4200a"
   },
   "outputs": [
    {
     "data": {
      "text/plain": [
       "{'hp1': 64, 'hp2': 256, 'hp3': 256, 'hp4': 64}"
      ]
     },
     "execution_count": 13,
     "metadata": {},
     "output_type": "execute_result"
    }
   ],
   "source": [
    "best_model_config\n",
    "# hp4 shouldn't even matter because the dense layer is not being iterated upon"
   ]
  },
  {
   "cell_type": "code",
   "execution_count": 15,
   "metadata": {
    "colab": {
     "base_uri": "https://localhost:8080/"
    },
    "executionInfo": {
     "elapsed": 133623,
     "status": "ok",
     "timestamp": 1618371060477,
     "user": {
      "displayName": "Xiaotian Han",
      "photoUrl": "",
      "userId": "11706159397964667938"
     },
     "user_tz": 300
    },
    "id": "uS_icEV0nG1C",
    "outputId": "2dcaa99b-2b42-4dc7-baed-52aeb28a39ef"
   },
   "outputs": [
    {
     "name": "stdout",
     "output_type": "stream",
     "text": [
      "Model: \"cnn_model\"\n",
      "_________________________________________________________________\n",
      "Layer (type)                 Output Shape              Param #   \n",
      "=================================================================\n",
      "input_18 (InputLayer)        [(None, 32, 32, 3)]       0         \n",
      "_________________________________________________________________\n",
      "conv2d_51 (Conv2D)           (None, 30, 30, 64)        1792      \n",
      "_________________________________________________________________\n",
      "max_pooling2d_34 (MaxPooling (None, 15, 15, 64)        0         \n",
      "_________________________________________________________________\n",
      "conv2d_52 (Conv2D)           (None, 13, 13, 256)       147712    \n",
      "_________________________________________________________________\n",
      "max_pooling2d_35 (MaxPooling (None, 6, 6, 256)         0         \n",
      "_________________________________________________________________\n",
      "conv2d_53 (Conv2D)           (None, 4, 4, 256)         590080    \n",
      "_________________________________________________________________\n",
      "flatten_17 (Flatten)         (None, 4096)              0         \n",
      "_________________________________________________________________\n",
      "dense_34 (Dense)             (None, 64)                262208    \n",
      "_________________________________________________________________\n",
      "dense_35 (Dense)             (None, 10)                650       \n",
      "=================================================================\n",
      "Total params: 1,002,442\n",
      "Trainable params: 1,002,442\n",
      "Non-trainable params: 0\n",
      "_________________________________________________________________\n",
      "Epoch 1/3\n",
      "313/313 [==============================] - 74s 235ms/step - loss: 1.8895 - accuracy: 0.2996 - val_loss: 1.2855 - val_accuracy: 0.5477\n",
      "Epoch 2/3\n",
      "313/313 [==============================] - 72s 230ms/step - loss: 1.2260 - accuracy: 0.5634 - val_loss: 1.1155 - val_accuracy: 0.6117\n",
      "Epoch 3/3\n",
      "313/313 [==============================] - 72s 230ms/step - loss: 1.0355 - accuracy: 0.6380 - val_loss: 1.0151 - val_accuracy: 0.6474\n"
     ]
    },
    {
     "data": {
      "text/plain": [
       "0.6022666692733765"
      ]
     },
     "execution_count": 15,
     "metadata": {},
     "output_type": "execute_result"
    }
   ],
   "source": [
    "best_cnn_model = build_cnn_model(best_model_config)\n",
    "\n",
    "best_cnn_model.summary()\n",
    "\n",
    "# I reduced the epochs to 3 instead of 10\n",
    "train_func( best_cnn_model, epochs=3, verbose=1 )"
   ]
  },
  {
   "cell_type": "code",
   "execution_count": 16,
   "metadata": {
    "colab": {
     "base_uri": "https://localhost:8080/",
     "height": 496
    },
    "executionInfo": {
     "elapsed": 134490,
     "status": "ok",
     "timestamp": 1618371061360,
     "user": {
      "displayName": "Xiaotian Han",
      "photoUrl": "",
      "userId": "11706159397964667938"
     },
     "user_tz": 300
    },
    "id": "GD1CcNsteJH9",
    "outputId": "e6f4d2cb-0629-40da-dc32-dc40a60ec357"
   },
   "outputs": [
    {
     "name": "stdout",
     "output_type": "stream",
     "text": [
      "('Failed to import pydot. You must `pip install pydot` and install graphviz (https://graphviz.gitlab.io/download/), ', 'for `pydotprint` to work.')\n"
     ]
    }
   ],
   "source": [
    "# tf.keras.utils.plot_model(best_cnn_model, show_layer_names=False, show_shapes=True, expand_nested=True, rankdir='TB', dpi=48)\n",
    "\n",
    "# I am getting errors when trying to run the utils for plotting, hence commented it out. "
   ]
  },
  {
   "cell_type": "code",
   "execution_count": 17,
   "metadata": {
    "colab": {
     "base_uri": "https://localhost:8080/"
    },
    "executionInfo": {
     "elapsed": 135075,
     "status": "ok",
     "timestamp": 1618371061966,
     "user": {
      "displayName": "Xiaotian Han",
      "photoUrl": "",
      "userId": "11706159397964667938"
     },
     "user_tz": 300
    },
    "id": "HEpOWxKl4Z9R",
    "outputId": "9fb357ce-d544-46bd-8817-d2c173b073a9"
   },
   "outputs": [
    {
     "name": "stdout",
     "output_type": "stream",
     "text": [
      "313/313 [==============================] - 4s 14ms/step - loss: 1.0072 - accuracy: 0.6478\n",
      "Test loss:  1.0072462558746338\n",
      "Test accuracy:  0.6478000283241272\n"
     ]
    }
   ],
   "source": [
    "test_loss, test_acc = best_cnn_model.evaluate(x_test,  y_test, verbose=1)\n",
    "print('Test loss: ', test_loss)\n",
    "print('Test accuracy: ', test_acc)"
   ]
  },
  {
   "cell_type": "markdown",
   "metadata": {
    "id": "P1QuXEC3x-S4"
   },
   "source": [
    "# Random Search"
   ]
  },
  {
   "cell_type": "code",
   "execution_count": 10,
   "metadata": {
    "id": "nuw1o0uTyJXQ"
   },
   "outputs": [],
   "source": [
    "import random\n",
    "\n",
    "def random_search_function(search_num, hp1s, hp2s, hp3s, hp4s):\n",
    "    # init varibles for best model\n",
    "    best_val_acc = 0\n",
    "    best_model_config = {}\n",
    "\n",
    "    # build_cnn_model with the random combination of hyperparameters( hp1s, hp2s, hp3s, hp4s )\n",
    "    # Your code here\n",
    "\n",
    "    for i in range(search_num):\n",
    "        model_config = dict()\n",
    "        # For each of the hp, pick a random integer between the lower bound and upper bound\n",
    "        model_config[ \"hp1\" ] = random.randint( hp1s[0], hp1s[1] )\n",
    "        model_config[ \"hp2\" ] = random.randint( hp2s[0], hp2s[1] )\n",
    "        model_config[ \"hp3\" ] = random.randint( hp3s[0], hp3s[1] )\n",
    "        model_config[ \"hp4\" ] = random.randint( hp4s[0], hp4s[1] )\n",
    "\n",
    "        cnn_model = build_cnn_model(model_config)\n",
    "        val_acc = train_func( cnn_model, epochs = 1 )\n",
    "\n",
    "        # save best hyperparameters\n",
    "        if val_acc > best_val_acc:\n",
    "            best_model_config = model_config\n",
    "            best_val_acc = val_acc\n",
    "        print( \"{}-th Seach:\\tCurrent:\\tmodel_config:{},\\tval_acc:{} \\n\\t\\tBest:   \\tmodel_config:{},\\tval_acc:{}\\n\".format(\n",
    "            i+1, model_config, val_acc, best_model_config, best_val_acc ) )\n",
    "\n",
    "    return best_model_config"
   ]
  },
  {
   "cell_type": "code",
   "execution_count": 11,
   "metadata": {
    "colab": {
     "base_uri": "https://localhost:8080/"
    },
    "executionInfo": {
     "elapsed": 257702,
     "status": "ok",
     "timestamp": 1618371184624,
     "user": {
      "displayName": "Xiaotian Han",
      "photoUrl": "",
      "userId": "11706159397964667938"
     },
     "user_tz": 300
    },
    "id": "ia8Cw5Gqy7yR",
    "outputId": "0d5e7e71-8ed0-4f7e-bd22-542aa1f6cdd4"
   },
   "outputs": [
    {
     "name": "stdout",
     "output_type": "stream",
     "text": [
      "313/313 [==============================] - 21s 64ms/step - loss: 2.0091 - accuracy: 0.2531 - val_loss: 1.5376 - val_accuracy: 0.4363\n",
      "1-th Seach:\tCurrent:\tmodel_config:{'hp1': 56, 'hp2': 25, 'hp3': 59, 'hp4': 50},\tval_acc:0.43630000948905945 \n",
      "\t\tBest:   \tmodel_config:{'hp1': 56, 'hp2': 25, 'hp3': 59, 'hp4': 50},\tval_acc:0.43630000948905945\n",
      "\n",
      "313/313 [==============================] - 15s 45ms/step - loss: 2.0082 - accuracy: 0.2389 - val_loss: 1.5295 - val_accuracy: 0.4415\n",
      "2-th Seach:\tCurrent:\tmodel_config:{'hp1': 23, 'hp2': 59, 'hp3': 26, 'hp4': 32},\tval_acc:0.4415000081062317 \n",
      "\t\tBest:   \tmodel_config:{'hp1': 23, 'hp2': 59, 'hp3': 26, 'hp4': 32},\tval_acc:0.4415000081062317\n",
      "\n",
      "313/313 [==============================] - 16s 49ms/step - loss: 2.0322 - accuracy: 0.2491 - val_loss: 1.5998 - val_accuracy: 0.4189\n",
      "3-th Seach:\tCurrent:\tmodel_config:{'hp1': 34, 'hp2': 47, 'hp3': 25, 'hp4': 50},\tval_acc:0.4189000129699707 \n",
      "\t\tBest:   \tmodel_config:{'hp1': 23, 'hp2': 59, 'hp3': 26, 'hp4': 32},\tval_acc:0.4415000081062317\n",
      "\n",
      "313/313 [==============================] - 14s 44ms/step - loss: 2.0334 - accuracy: 0.2425 - val_loss: 1.6156 - val_accuracy: 0.4145\n",
      "4-th Seach:\tCurrent:\tmodel_config:{'hp1': 33, 'hp2': 16, 'hp3': 18, 'hp4': 42},\tval_acc:0.41449999809265137 \n",
      "\t\tBest:   \tmodel_config:{'hp1': 23, 'hp2': 59, 'hp3': 26, 'hp4': 32},\tval_acc:0.4415000081062317\n",
      "\n",
      "313/313 [==============================] - 22s 69ms/step - loss: 1.9962 - accuracy: 0.2552 - val_loss: 1.5877 - val_accuracy: 0.4227\n",
      "5-th Seach:\tCurrent:\tmodel_config:{'hp1': 56, 'hp2': 37, 'hp3': 30, 'hp4': 56},\tval_acc:0.4226999878883362 \n",
      "\t\tBest:   \tmodel_config:{'hp1': 23, 'hp2': 59, 'hp3': 26, 'hp4': 32},\tval_acc:0.4415000081062317\n",
      "\n",
      "313/313 [==============================] - 13s 40ms/step - loss: 2.0398 - accuracy: 0.2377 - val_loss: 1.5263 - val_accuracy: 0.4490\n",
      "6-th Seach:\tCurrent:\tmodel_config:{'hp1': 20, 'hp2': 64, 'hp3': 27, 'hp4': 45},\tval_acc:0.4490000009536743 \n",
      "\t\tBest:   \tmodel_config:{'hp1': 20, 'hp2': 64, 'hp3': 27, 'hp4': 45},\tval_acc:0.4490000009536743\n",
      "\n",
      "313/313 [==============================] - 11s 35ms/step - loss: 2.0352 - accuracy: 0.2444 - val_loss: 1.5367 - val_accuracy: 0.4469\n",
      "7-th Seach:\tCurrent:\tmodel_config:{'hp1': 16, 'hp2': 55, 'hp3': 63, 'hp4': 39},\tval_acc:0.44690001010894775 \n",
      "\t\tBest:   \tmodel_config:{'hp1': 20, 'hp2': 64, 'hp3': 27, 'hp4': 45},\tval_acc:0.4490000009536743\n",
      "\n",
      "313/313 [==============================] - 17s 54ms/step - loss: 1.9733 - accuracy: 0.2669 - val_loss: 1.5252 - val_accuracy: 0.4400\n",
      "8-th Seach:\tCurrent:\tmodel_config:{'hp1': 43, 'hp2': 24, 'hp3': 35, 'hp4': 46},\tval_acc:0.4399999976158142 \n",
      "\t\tBest:   \tmodel_config:{'hp1': 20, 'hp2': 64, 'hp3': 27, 'hp4': 45},\tval_acc:0.4490000009536743\n",
      "\n",
      "313/313 [==============================] - 26s 81ms/step - loss: 1.9605 - accuracy: 0.2627 - val_loss: 1.5066 - val_accuracy: 0.4530\n",
      "9-th Seach:\tCurrent:\tmodel_config:{'hp1': 63, 'hp2': 32, 'hp3': 50, 'hp4': 50},\tval_acc:0.453000009059906 \n",
      "\t\tBest:   \tmodel_config:{'hp1': 63, 'hp2': 32, 'hp3': 50, 'hp4': 50},\tval_acc:0.453000009059906\n",
      "\n",
      "313/313 [==============================] - 24s 77ms/step - loss: 1.9798 - accuracy: 0.2674 - val_loss: 1.5198 - val_accuracy: 0.4459\n",
      "10-th Seach:\tCurrent:\tmodel_config:{'hp1': 49, 'hp2': 53, 'hp3': 56, 'hp4': 48},\tval_acc:0.44589999318122864 \n",
      "\t\tBest:   \tmodel_config:{'hp1': 63, 'hp2': 32, 'hp3': 50, 'hp4': 50},\tval_acc:0.453000009059906\n",
      "\n"
     ]
    }
   ],
   "source": [
    "# You can chage the range the value of the hyperparemeters\n",
    "hp1s = [16, 64]\n",
    "hp2s = [16, 64]\n",
    "hp3s = [16, 64]\n",
    "hp4s = [16, 64]\n",
    "\n",
    "# I reduced the search space and also the number of searches in the interests of run time. \n",
    "# its not a fair comparison with the grid search because of these differences\n",
    "best_model_config = random_search_function( 10 ,hp1s, hp2s, hp3s, hp4s)"
   ]
  },
  {
   "cell_type": "code",
   "execution_count": 12,
   "metadata": {
    "colab": {
     "base_uri": "https://localhost:8080/"
    },
    "executionInfo": {
     "elapsed": 312814,
     "status": "ok",
     "timestamp": 1618371239757,
     "user": {
      "displayName": "Xiaotian Han",
      "photoUrl": "",
      "userId": "11706159397964667938"
     },
     "user_tz": 300
    },
    "id": "qfg5VUni36-C",
    "outputId": "103bc729-9ff9-449d-8630-d8b44c867475"
   },
   "outputs": [
    {
     "name": "stdout",
     "output_type": "stream",
     "text": [
      "Model: \"cnn_model\"\n",
      "_________________________________________________________________\n",
      "Layer (type)                 Output Shape              Param #   \n",
      "=================================================================\n",
      "input_12 (InputLayer)        [(None, 32, 32, 3)]       0         \n",
      "_________________________________________________________________\n",
      "conv2d_33 (Conv2D)           (None, 30, 30, 63)        1764      \n",
      "_________________________________________________________________\n",
      "max_pooling2d_22 (MaxPooling (None, 15, 15, 63)        0         \n",
      "_________________________________________________________________\n",
      "conv2d_34 (Conv2D)           (None, 13, 13, 32)        18176     \n",
      "_________________________________________________________________\n",
      "max_pooling2d_23 (MaxPooling (None, 6, 6, 32)          0         \n",
      "_________________________________________________________________\n",
      "conv2d_35 (Conv2D)           (None, 4, 4, 50)          14450     \n",
      "_________________________________________________________________\n",
      "flatten_11 (Flatten)         (None, 800)               0         \n",
      "_________________________________________________________________\n",
      "dense_22 (Dense)             (None, 50)                40050     \n",
      "_________________________________________________________________\n",
      "dense_23 (Dense)             (None, 10)                510       \n",
      "=================================================================\n",
      "Total params: 74,950\n",
      "Trainable params: 74,950\n",
      "Non-trainable params: 0\n",
      "_________________________________________________________________\n",
      "Epoch 1/10\n",
      "313/313 [==============================] - 26s 81ms/step - loss: 1.9742 - accuracy: 0.2615 - val_loss: 1.5226 - val_accuracy: 0.4472\n",
      "Epoch 2/10\n",
      "313/313 [==============================] - 25s 80ms/step - loss: 1.4585 - accuracy: 0.4690 - val_loss: 1.3373 - val_accuracy: 0.5223\n",
      "Epoch 3/10\n",
      "313/313 [==============================] - 25s 79ms/step - loss: 1.3078 - accuracy: 0.5255 - val_loss: 1.2986 - val_accuracy: 0.5396\n",
      "Epoch 4/10\n",
      "313/313 [==============================] - 25s 81ms/step - loss: 1.2049 - accuracy: 0.5725 - val_loss: 1.1622 - val_accuracy: 0.5932\n",
      "Epoch 5/10\n",
      "313/313 [==============================] - 25s 81ms/step - loss: 1.1263 - accuracy: 0.6008 - val_loss: 1.1349 - val_accuracy: 0.6058\n",
      "Epoch 6/10\n",
      "313/313 [==============================] - 25s 79ms/step - loss: 1.0597 - accuracy: 0.6282 - val_loss: 1.1024 - val_accuracy: 0.6169\n",
      "Epoch 7/10\n",
      "313/313 [==============================] - 25s 79ms/step - loss: 1.0046 - accuracy: 0.6438 - val_loss: 1.0596 - val_accuracy: 0.6307\n",
      "Epoch 8/10\n",
      "313/313 [==============================] - 25s 80ms/step - loss: 0.9779 - accuracy: 0.6529 - val_loss: 1.0041 - val_accuracy: 0.6522\n",
      "Epoch 9/10\n",
      "313/313 [==============================] - 25s 80ms/step - loss: 0.9239 - accuracy: 0.6735 - val_loss: 1.0292 - val_accuracy: 0.6444\n",
      "Epoch 10/10\n",
      "313/313 [==============================] - 25s 80ms/step - loss: 0.8850 - accuracy: 0.6902 - val_loss: 1.0023 - val_accuracy: 0.6564\n"
     ]
    },
    {
     "data": {
      "text/plain": [
       "0.5908700048923492"
      ]
     },
     "execution_count": 12,
     "metadata": {},
     "output_type": "execute_result"
    }
   ],
   "source": [
    "best_cnn_model = build_cnn_model(best_model_config)\n",
    "\n",
    "best_cnn_model.summary()\n",
    "\n",
    "train_func( best_cnn_model, epochs=10, verbose=1 )"
   ]
  },
  {
   "cell_type": "code",
   "execution_count": 14,
   "metadata": {
    "colab": {
     "base_uri": "https://localhost:8080/"
    },
    "executionInfo": {
     "elapsed": 314255,
     "status": "ok",
     "timestamp": 1618371241229,
     "user": {
      "displayName": "Xiaotian Han",
      "photoUrl": "",
      "userId": "11706159397964667938"
     },
     "user_tz": 300
    },
    "id": "0lDLDuNHYPD3",
    "outputId": "0357330f-7a01-48cd-f68d-9cf6d109e600"
   },
   "outputs": [
    {
     "name": "stdout",
     "output_type": "stream",
     "text": [
      "313/313 [==============================] - 2s 6ms/step - loss: 1.0080 - accuracy: 0.6497\n",
      "Test loss:  1.0080499649047852\n",
      "Test accuracy:  0.6496999859809875\n"
     ]
    }
   ],
   "source": [
    "test_loss, test_acc = best_cnn_model.evaluate(x_test,  y_test, verbose=1)\n",
    "print('Test loss: ', test_loss)\n",
    "print('Test accuracy: ', test_acc)"
   ]
  },
  {
   "cell_type": "code",
   "execution_count": null,
   "metadata": {},
   "outputs": [],
   "source": []
  }
 ],
 "metadata": {
  "accelerator": "GPU",
  "colab": {
   "collapsed_sections": [],
   "name": "Project1_M2_partial.ipynb",
   "provenance": [
    {
     "file_id": "1A8Oua9ZEYSDyIZhZDojj7bPQ-Whbucg-",
     "timestamp": 1618031051215
    }
   ],
   "toc_visible": true
  },
  "kernelspec": {
   "display_name": "Python 3",
   "language": "python",
   "name": "python3"
  },
  "language_info": {
   "codemirror_mode": {
    "name": "ipython",
    "version": 3
   },
   "file_extension": ".py",
   "mimetype": "text/x-python",
   "name": "python",
   "nbconvert_exporter": "python",
   "pygments_lexer": "ipython3",
   "version": "3.7.6"
  }
 },
 "nbformat": 4,
 "nbformat_minor": 2
}
